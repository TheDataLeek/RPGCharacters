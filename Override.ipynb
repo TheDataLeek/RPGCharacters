{
 "cells": [
  {
   "cell_type": "markdown",
   "metadata": {},
   "source": [
    "#Details\n",
    "\n",
    "* Name: Emily Galt\n",
    "* Age: 18\n",
    "* Height: 5'7\"\n",
    "* Weight: 120lbs\n",
    "* Cape Name: Override\n",
    "* Description: Red hair, pixie cut. Caucasian."
   ]
  },
  {
   "cell_type": "markdown",
   "metadata": {},
   "source": [
    "#Stats\n",
    "\n",
    "* Brawn: $\\diamond \\, \\diamond$\n",
    "* Athletic: $\\diamond \\, \\diamond \\, \\diamond$\n",
    "* Dexterity: $\\diamond \\, \\diamond \\, \\diamond \\, \\diamond$\n",
    "* Wits: $\\diamond \\, \\diamond \\, \\diamond$\n",
    "* Social: $\\diamond \\, \\diamond$\n",
    "* Knowledge: $\\diamond \\, \\diamond \\, \\diamond \\, \\diamond$\n",
    "* Guts: $\\diamond \\, \\diamond \\, \\diamond$"
   ]
  },
  {
   "cell_type": "markdown",
   "metadata": {},
   "source": [
    "#Powers:\n",
    "* (Striker 3) Micro electricity control if he touches can change the current. Takes longer the more power. For small amounts of current this control is total, for larger amounts of current, it takes longer and the control itself is weaker.\n",
    "* (Thinker 7) Can sense electric current through walls 360 degrees up to 50 feet away. Doesn't need to have open eyes. Can be blinded, dark, or otherwise unable to see but still sense these currents. Think Daredevil.\n",
    "* (Master 5) Can control an individual's body through nervous system, but only if touching the victim. Cannot control their power (brain).\n",
    "* (Brute 1) Immune to electricity."
   ]
  },
  {
   "cell_type": "markdown",
   "metadata": {},
   "source": [
    "##Skills\n",
    "* Acrobatics: $\\diamond \\, \\diamond \\, \\diamond$\n",
    "    * $+1$ to rolls made relating to jumping, climbing, hurdling, and enables safe falling - can fall $150$% as far without taking damage ($+50$% per additonal point in Acrobatics).\n",
    "    * Acrobatics rolls easy enough to offer a native bonus to the roll (before stat/skill modifiers) are automatic successes.\n",
    "    * On a successful Acrobatics roll, can immediately make another acrobatics roll, chaining climbing attempts with jumping to navigate the environment, to a maximum number of times equal to the number of points in Acrobatics.\n",
    "* Computers: $\\diamond \\, \\diamond \\, \\diamond \\, \\diamond$\n",
    "    * $+1$ to to knowledge rolls pertaining to computers, programming, and hardware, as well as rolls to operate or figure out a device.  Can operate computers and electronic devices (phones) in stressful situations without penalty or fumbling. \n",
    "    * Can effectively ‘hack’, protect data and prevent access to devices.  Owned and/or regularly used devices are protected; only those with an equal/greater number of points in this skill and a successful knowledge (Computers) roll can access protected devices.  Conversely, you can do the same.\n",
    "    * Have intuitive knowledge of computer/security architecture - what leads to what. Can devise simple programs to handle tasks.  Programs follow simple instructions and can attack, defend, infiltrate, gather information/research, or fill another role (ie. a game amuses).  Creating a program is a craft check, requiring Wits for the speed of completion and Knowledge for the quality of the construction.\n",
    "    * $+2$ to to knowledge rolls pertaining to computers, programming, and hardware, as well as rolls to operate or figure out a device (replaces the one point bonus).  In daily activity, have a number of flash drives or pre-made programs on hand equal to number of knowledge pips; each such device allows near-instant progress past a barrier or near-instant task completion, unless the target is more skilled (more knowledgeable if skill is equal); if they are, then this serves to cut the time to finish the job to $50$%.\n",
    "* Driving: $\\diamond$\n",
    "    * $+1$ to rolls made in operation of a vehicle.  Can operate a vehicle without risk of fumbling during intense situations."
   ]
  },
  {
   "cell_type": "markdown",
   "metadata": {
    "collapsed": true
   },
   "source": [
    "#Equipment\n",
    "\n",
    "* Tier 2 Costume\n",
    "    * Basic, effective gear.  One has to shop around to find the right thing, but it does resemble a costume, though the piecemeal or lower quality nature may raise eyebrows if given a more thorough look.\n",
    "    * Costs $15-200, half this price for components if crafting - Two points of advantages.\n",
    "    * Description: Her costume is red leather with a white undershirt. She also wears a red mask that covers her eyes as well as a red fedora. The last part is that she has red leather, steel-enforced biker gloves. ![jpg](./override_costume_red.jpg) ![jpg](./override_hat.jpg) ![jpg](./override_mask.jpg)\n",
    "* One set of clothes per every week.\n",
    "* A little bit of cash for food. Around \\$50 a week.\n",
    "* Old cell phone (jailbroken).\n",
    "* Laptop (old)\n",
    "* Bus Pass\n",
    "* Red Katana, which is strapped to her back while in costume. She usually stores this at home, so she doesn't always have it available."
   ]
  },
  {
   "cell_type": "markdown",
   "metadata": {},
   "source": [
    "#Backstory\n",
    "\n",
    "Emily was born to two doctors who worked in a local hospital. When she was two, her father died in an endbringer attack. Grief-stricken and overburdened with bills, her mother married a rich businessman who owned several stores in the city. They had a child, named Claire, and by the time she was 8 she had lost all memory of her father. Her step father on the other hand was a sadist. He enjoyed many sexual fetishes, or at least that's how Emily's mother explained the bruises that she went to sleep with every night. Emily soon learned that his fetishes extended past beating her mother, and into violating her sister. This went on for years, every night Emily went to bed knowing that her stepfather was in her sister's room. The school always thought that Claire was especially clumsy given the constant bruises on her body, but no one ever questioned further.\n",
    "\n",
    "When Emily was 16 her stepfather went further than he had ever gone, and Claire was left unconscious and bleeding in her bed. Her stepfather came into the room and told her to tell no one of this. Wracked with guilt and the pressure to protect her sister, Emily grabbed a knife from the kitchen and stabbed her stepfather to death in his sleep. She then drove her dying sister to the hospital with hope that they could save her life.\n",
    "\n",
    "Claire stayed in the hospital for several weeks, and every day she was visited by Emily and her mother. Emily kept telling her family that their stepfather had gone away for a couple days on a business trip, but the guilt ate at her. After weeks of unbearable guilt she collapsed and  went to the police, admitting everything.\n",
    "\n",
    "It was in her cell that she discovered her powers.\n",
    "\n",
    "While sitting in the cold, dark cell, Emily closed her eyes but could still see her cellmates. She was able to see exactly where everyone was around her in the entire police station. At first she thought she was going mad, but soon after realized that she must have superpowers.\n",
    "\n",
    "The court case was swift; no one wanted to keep a 16 year old girl in prison. She was acquitted of all charges, but told to keep on the right side of the law, lest she attract unwanted attention.\n",
    "\n",
    "During this time Emily discovered the true breadth of her powers. Not only could she \"see\" electricy around her, she could also move it, redirect it, control it. She could tell the lightning where to go.\n",
    "\n",
    "Emily is now in her Senior year in highschool. Growing up on medical texts she's learned to control people around her by touching them and telling their nervous system what to do. Claire knows of her abilities and was the primary test subject for most of her experimentation.\n",
    "\n",
    "She's also showed great prowess in technology. Her school had many computers, as well as a programming club which she thrived in. Her abilities also granted her the power to speak to computers and make them do her bidding. She can manipulate the currents in a computer, a phone, a camera, or anything electrical and to an extent operate it without having some form of built in access.\n",
    "\n",
    "Last year her mother died as a result of a Slaughterhouse Nine visit, leaving her and her sister destitute. They were put in a foster home where Claire is coddled and Emily is ignored. As a result, she doesn't go home often, and usually carries everything she needs for a couple weeks on her back.\n",
    "\n",
    "It was during this time that she spent on the streets that Emily decided to be more public about the use of her superpowers. She wants to fight for what is right, be a superhero, be someone that kids look up to. She hasn't gone out much, but she has helped a little. She had thought about the wards, but she didn't know if she would fit in, and as a result has trusted her costume to hide her age.\n",
    "\n",
    "She goes by the name Override, leaving people to assume that she controls people through touch, not realizing that her power is much more versatile than that."
   ]
  },
  {
   "cell_type": "markdown",
   "metadata": {},
   "source": [
    "# Disadvantage (Life)\n",
    "Location.  It’s all about location, and yours is less than\n",
    "stellar.  You’re stuck somewhere shitty/unappealing/inconvenient, perhaps, and\n",
    "something/someone is keeping you there.  Alternately, you’re just doomed to be\n",
    "unable to set down roots (someone after you, chasing you away?  Power ruins\n",
    "home?)\n",
    "\n",
    "##Cost\n",
    "Either your home/hq is lousy or you shouldn’t expect to be able\n",
    "to keep more possessions than you can carry with you."
   ]
  },
  {
   "cell_type": "markdown",
   "metadata": {
    "collapsed": true
   },
   "source": []
  }
 ],
 "metadata": {
  "kernelspec": {
   "display_name": "Python 3",
   "language": "python",
   "name": "python3"
  },
  "language_info": {
   "codemirror_mode": {
    "name": "ipython",
    "version": 3
   },
   "file_extension": ".py",
   "mimetype": "text/x-python",
   "name": "python",
   "nbconvert_exporter": "python",
   "pygments_lexer": "ipython3",
   "version": "3.4.0"
  }
 },
 "nbformat": 4,
 "nbformat_minor": 0
}
