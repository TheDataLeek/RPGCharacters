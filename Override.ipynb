{
 "cells": [
  {
   "cell_type": "markdown",
   "metadata": {},
   "source": [
    "#Details\n",
    "\n",
    "* Name: Emily Galt\n",
    "* Age: 17\n",
    "* Height: 5'7\"\n",
    "* Weight: 120lbs\n",
    "* Cape Name: Override"
   ]
  },
  {
   "cell_type": "markdown",
   "metadata": {},
   "source": [
    "#Stats\n",
    "\n",
    "* Brawn: $\\diamond \\, \\diamond$\n",
    "* Athletic: $\\diamond \\, \\diamond \\, \\diamond$\n",
    "* Dexterity: $\\diamond \\, \\diamond \\, \\diamond \\, \\diamond$\n",
    "* Wits: $\\diamond \\, \\diamond \\, \\diamond$\n",
    "* Social: $\\diamond \\, \\diamond$\n",
    "* Knowledge: $\\diamond \\, \\diamond \\, \\diamond \\, \\diamond$\n",
    "* Guts: $\\diamond \\, \\diamond \\, \\diamond$"
   ]
  },
  {
   "cell_type": "markdown",
   "metadata": {},
   "source": [
    "#Powers:\n",
    "* (Striker 3) Micro electricity control if he touches can change the current. Takes longer the more power. For small amounts of current this control is total, for larger amounts of current, it takes longer and the control itself is weaker.\n",
    "* (Thinker 7) Can sense electric current through walls 360 degrees up to 50 feet away. Doesn't need to have open eyes. Can be blinded, dark, or otherwise unable to see but still sense these currents. Think Daredevil.\n",
    "* (Master 5) Can control an individual's body through nervous system, but only if touching the victim. Cannot control their power (brain)."
   ]
  },
  {
   "cell_type": "markdown",
   "metadata": {},
   "source": [
    "#Disadvantage (Life)\n",
    "Location.  It’s all about location, and yours is less than\n",
    "stellar.  You’re stuck somewhere shitty/unappealing/inconvenient, perhaps, and\n",
    "something/someone is keeping you there.  Alternately, you’re just doomed to be\n",
    "unable to set down roots (someone after you, chasing you away?  Power ruins\n",
    "home?)\n",
    "\n",
    "##Cost\n",
    "Either your home/hq is lousy or you shouldn’t expect to be able\n",
    "to keep more possessions than you can carry with you."
   ]
  },
  {
   "cell_type": "markdown",
   "metadata": {},
   "source": [
    "##Skills\n",
    "* Acrobatics: $\\diamond \\, \\diamond \\, \\diamond$\n",
    "    * $+1$ to rolls made relating to jumping, climbing, hurdling, and enables safe falling - can fall $150$% as far without taking damage ($+50$% per additonal point in Acrobatics).\n",
    "    * Acrobatics rolls easy enough to offer a native bonus to the roll (before stat/skill modifiers) are automatic successes.\n",
    "    * On a successful Acrobatics roll, can immediately make another acrobatics roll, chaining climbing attempts with jumping to navigate the environment, to a maximum number of times equal to the number of points in Acrobatics.\n",
    "* Computers: $\\diamond \\, \\diamond \\, \\diamond \\, \\diamond$\n",
    "    * $+1$ to to knowledge rolls pertaining to computers, programming, and hardware, as well as rolls to operate or figure out a device.  Can operate computers and electronic devices (phones) in stressful situations without penalty or fumbling. \n",
    "    * Can effectively ‘hack’, protect data and prevent access to devices.  Owned and/or regularly used devices are protected; only those with an equal/greater number of points in this skill and a successful knowledge (Computers) roll can access protected devices.  Conversely, you can do the same.\n",
    "    * Have intuitive knowledge of computer/security architecture - what leads to what. Can devise simple programs to handle tasks.  Programs follow simple instructions and can attack, defend, infiltrate, gather information/research, or fill another role (ie. a game amuses).  Creating a program is a craft check, requiring Wits for the speed of completion and Knowledge for the quality of the construction.\n",
    "    * $+2$ to to knowledge rolls pertaining to computers, programming, and hardware, as well as rolls to operate or figure out a device (replaces the one point bonus).  In daily activity, have a number of flash drives or pre-made programs on hand equal to number of knowledge pips; each such device allows near-instant progress past a barrier or near-instant task completion, unless the target is more skilled (more knowledgeable if skill is equal); if they are, then this serves to cut the time to finish the job to $50$%.\n",
    "* Driving: $\\diamond$\n",
    "    * $+1$ to rolls made in operation of a vehicle.  Can operate a vehicle without risk of fumbling during intense situations."
   ]
  },
  {
   "cell_type": "markdown",
   "metadata": {},
   "source": [
    "#Backstory\n",
    "\n",
    "Emily \n",
    "\n",
    "As a young child I watched as my step father sexually abused my half sister. One tim ehe went so far that he put her in the hospital. Riddled with anguish and threatened not to tell I stabbed him to death and came clean to the police *Trigger*"
   ]
  },
  {
   "cell_type": "markdown",
   "metadata": {
    "collapsed": true
   },
   "source": []
  }
 ],
 "metadata": {
  "kernelspec": {
   "display_name": "Python 3",
   "language": "python",
   "name": "python3"
  },
  "language_info": {
   "codemirror_mode": {
    "name": "ipython",
    "version": 3
   },
   "file_extension": ".py",
   "mimetype": "text/x-python",
   "name": "python",
   "nbconvert_exporter": "python",
   "pygments_lexer": "ipython3",
   "version": "3.4.0"
  }
 },
 "nbformat": 4,
 "nbformat_minor": 0
}
